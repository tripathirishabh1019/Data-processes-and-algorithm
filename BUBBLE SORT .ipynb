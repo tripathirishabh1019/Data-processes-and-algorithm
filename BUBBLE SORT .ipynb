{
 "cells": [
  {
   "cell_type": "code",
   "execution_count": 4,
   "id": "278ccd76",
   "metadata": {},
   "outputs": [],
   "source": [
    "import array \n",
    "from  array import * "
   ]
  },
  {
   "cell_type": "code",
   "execution_count": 5,
   "id": "0960ee15",
   "metadata": {},
   "outputs": [
    {
     "name": "stdout",
     "output_type": "stream",
     "text": [
      "array('i', [7, 34, 45, 65, 89, 987])\n"
     ]
    }
   ],
   "source": [
    "def pairwise_swap(array):\n",
    "    n=len(arr)\n",
    "    for i in range(0,n-1):\n",
    "        for j in range(0,n-1-i):\n",
    "            if arr[j]>arr[j+1]:\n",
    "                arr[j],arr[j+1] = arr[j+1],arr[j]\n",
    "                \n",
    "arr=array('i',[7,89,987,65,45,34])\n",
    "pairwise_swap(arr)\n",
    "print(arr)"
   ]
  },
  {
   "cell_type": "code",
   "execution_count": null,
   "id": "0c80764b",
   "metadata": {},
   "outputs": [],
   "source": []
  }
 ],
 "metadata": {
  "kernelspec": {
   "display_name": "Python 3 (ipykernel)",
   "language": "python",
   "name": "python3"
  },
  "language_info": {
   "codemirror_mode": {
    "name": "ipython",
    "version": 3
   },
   "file_extension": ".py",
   "mimetype": "text/x-python",
   "name": "python",
   "nbconvert_exporter": "python",
   "pygments_lexer": "ipython3",
   "version": "3.11.5"
  }
 },
 "nbformat": 4,
 "nbformat_minor": 5
}
