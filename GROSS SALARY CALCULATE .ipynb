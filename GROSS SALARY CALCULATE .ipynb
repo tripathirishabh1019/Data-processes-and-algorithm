{
 "cells": [
  {
   "cell_type": "markdown",
   "id": "4e8e1ccc",
   "metadata": {},
   "source": [
    "# GROSS SALARY "
   ]
  },
  {
   "cell_type": "code",
   "execution_count": null,
   "id": "b05b64bd",
   "metadata": {},
   "outputs": [],
   "source": [
    "# WRITE A PROGRAME TO CALCULATE GROSS SALARY USING HIS ON HER BASIC SALARY.ENSURE THE BASIC SALARY IS A INPUT PROMPT \n",
    "\n",
    "# HRA=20% of basic salary \n",
    "# DA=50% of basic salary \n",
    "# PF=11% of basic salary \n",
    "\n",
    "# ALLOWENCE IS 1700 OF BASIC SALARY \n",
    "# is greater then RS. 10,000\n",
    "\n",
    "# ALLOWENCE IS 1300 OF BASIC SALARY \n",
    "# is greater then RS. 5000\n",
    "\n",
    "# ALLOWENCE IS 1300 OF BASIC SALARY \n",
    "# is greater then RS. 2500"
   ]
  },
  {
   "cell_type": "code",
   "execution_count": null,
   "id": "eb252526",
   "metadata": {},
   "outputs": [],
   "source": [
    "basic=float(input(\" basic salary \"))\n",
    "print(\" the basic salary is : \",\"rs\", basic )\n",
    "hra=0.2*basic \n",
    "da=0.5*basic\n",
    "pf=0.11*basic\n",
    "if basic>10000:\n",
    "    allowence=1700\n",
    "elif basic>5000:\n",
    "    allowence=1500\n",
    "else:\n",
    "    allowence=1300\n",
    "gross_salary=basic+hra+da+allowence-pf\n",
    "print(\"THE HRA is: \",\"RS\",hra)\n",
    "print(\"THE DA is : \",\"RS\",da)\n",
    "print(\"THE PF is :\",\"RS\",pf)\n",
    "print(\" the gros salary is: \", \"rs\",gross_salary )"
   ]
  }
 ],
 "metadata": {
  "kernelspec": {
   "display_name": "Python 3 (ipykernel)",
   "language": "python",
   "name": "python3"
  },
  "language_info": {
   "codemirror_mode": {
    "name": "ipython",
    "version": 3
   },
   "file_extension": ".py",
   "mimetype": "text/x-python",
   "name": "python",
   "nbconvert_exporter": "python",
   "pygments_lexer": "ipython3",
   "version": "3.11.5"
  }
 },
 "nbformat": 4,
 "nbformat_minor": 5
}
