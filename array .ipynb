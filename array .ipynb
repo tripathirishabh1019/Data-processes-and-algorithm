{
 "cells": [
  {
   "cell_type": "markdown",
   "id": "887895e0",
   "metadata": {},
   "source": [
    "# Question 1: Array Operations"
   ]
  },
  {
   "cell_type": "code",
   "execution_count": 8,
   "id": "44a01207",
   "metadata": {},
   "outputs": [],
   "source": [
    "import array \n",
    "from array import *"
   ]
  },
  {
   "cell_type": "code",
   "execution_count": 41,
   "id": "ac857b82",
   "metadata": {},
   "outputs": [
    {
     "name": "stdout",
     "output_type": "stream",
     "text": [
      "array('i', [1, 2, 3, 4, 5, 6, 7, 8, 9, 10])\n"
     ]
    }
   ],
   "source": [
    "#a) Create an array named numbers containing 10 integer values.\n",
    "\n",
    "arr=array('i',[1,2,3,4,5,6,7,8,9,10])\n",
    "print(arr)\n"
   ]
  },
  {
   "cell_type": "code",
   "execution_count": 42,
   "id": "9b6f21f0",
   "metadata": {},
   "outputs": [
    {
     "name": "stdout",
     "output_type": "stream",
     "text": [
      " sum of all number in the array 55\n"
     ]
    }
   ],
   "source": [
    "#b) calculate and display the sum of all the numbers in the array\n",
    "\n",
    "sum=0\n",
    "\n",
    "for i in range(0,len(arr)):\n",
    "    sum = sum + arr[i]\n",
    "print(\" sum of all number in the array\", sum )"
   ]
  },
  {
   "cell_type": "code",
   "execution_count": 43,
   "id": "6bee2e9e",
   "metadata": {},
   "outputs": [
    {
     "name": "stdout",
     "output_type": "stream",
     "text": [
      "average of number present in array named  5\n"
     ]
    }
   ],
   "source": [
    "#c) calculate and display the average of the numbers.\n",
    "\n",
    "sum=0\n",
    "\n",
    "for i in range(0,len(arr)):\n",
    "    sum = sum + arr [i]\n",
    "    average = sum // len(arr)\n",
    "print(\"average of number present in array named \", average)"
   ]
  },
  {
   "cell_type": "code",
   "execution_count": 44,
   "id": "567fae4d",
   "metadata": {},
   "outputs": [
    {
     "name": "stdout",
     "output_type": "stream",
     "text": [
      "maximum value  present in the array number  10\n",
      "minimum value present in the array number 1\n"
     ]
    }
   ],
   "source": [
    "#d)find and dsiplaY the maximum and minimum values in the array.\n",
    "\n",
    "print(\"maximum value  present in the array number \", max( arr))\n",
    "print(\"minimum value present in the array number\", min(arr))"
   ]
  },
  {
   "cell_type": "markdown",
   "id": "92161605",
   "metadata": {},
   "source": [
    "# Question 2: Array Manipulation"
   ]
  },
  {
   "cell_type": "code",
   "execution_count": 45,
   "id": "8bb66329",
   "metadata": {},
   "outputs": [
    {
     "name": "stdout",
     "output_type": "stream",
     "text": [
      "['nitish', 'rishabh', 'mohit', 'pranav', 'mukesh', 'mahesh', 'sidharth', 'sem']\n"
     ]
    }
   ],
   "source": [
    "#a)create an array pf 8 names.\n",
    "\n",
    "array=[\"nitish\",\"rishabh\",\"mohit\",\"pranav\",\"mukesh\",\"mahesh\",\"sidharth\",\"sem\",]\n",
    "print(array)"
   ]
  },
  {
   "cell_type": "code",
   "execution_count": 46,
   "id": "427b9f2d",
   "metadata": {},
   "outputs": [
    {
     "name": "stdout",
     "output_type": "stream",
     "text": [
      "['nitish', 'rishabh', 'mohit', 'pranav', 'mukesh', 'mahesh', 'sidharth', 'sem', 'rahul', 'darpana']\n"
     ]
    }
   ],
   "source": [
    "#b) add two more names to the array.\n",
    "\n",
    "array.append(\"rahul\")\n",
    "array.append(\"darpana\")\n",
    "print(array)"
   ]
  },
  {
   "cell_type": "code",
   "execution_count": 47,
   "id": "ebe0f5a3",
   "metadata": {},
   "outputs": [
    {
     "name": "stdout",
     "output_type": "stream",
     "text": [
      "10\n"
     ]
    }
   ],
   "source": [
    "print(len(array))"
   ]
  },
  {
   "cell_type": "code",
   "execution_count": 48,
   "id": "88dfc205",
   "metadata": {},
   "outputs": [
    {
     "name": "stdout",
     "output_type": "stream",
     "text": [
      "['nitish', 'rishabh', 'mohit', 'pranav', 'aman', 'mahesh', 'sidharth', 'sem', 'rahul', 'darpana']\n"
     ]
    }
   ],
   "source": [
    "#c) replace the 4th name in the array with a new name.\n",
    "\n",
    "array[4]=\"aman\"\n",
    "print(array )"
   ]
  },
  {
   "cell_type": "code",
   "execution_count": 49,
   "id": "18a30c38",
   "metadata": {},
   "outputs": [
    {
     "name": "stdout",
     "output_type": "stream",
     "text": [
      "['nitish', 'rishabh', 'mohit', 'pranav', 'aman', 'mahesh', 'sidharth', 'sem', 'rahul']\n"
     ]
    }
   ],
   "source": [
    "#d) remve the last name from the array\n",
    "\n",
    "array.pop()\n",
    "print(array)\n",
    "\n"
   ]
  },
  {
   "cell_type": "code",
   "execution_count": 50,
   "id": "07707582",
   "metadata": {},
   "outputs": [
    {
     "name": "stdout",
     "output_type": "stream",
     "text": [
      "display the final array: ['nitish', 'rishabh', 'mohit', 'pranav', 'aman', 'mahesh', 'sidharth', 'sem', 'rahul']\n"
     ]
    }
   ],
   "source": [
    "#e) display the final array of the name.\n",
    "\n",
    "print(\"display the final array:\",array)\n",
    "\n"
   ]
  },
  {
   "cell_type": "markdown",
   "id": "0a90bb46",
   "metadata": {},
   "source": [
    "# Question 3: Searching in Arrays"
   ]
  },
  {
   "cell_type": "code",
   "execution_count": 62,
   "id": "e401526d",
   "metadata": {},
   "outputs": [
    {
     "name": "stdout",
     "output_type": "stream",
     "text": [
      "array('i', [1, 2, 3, 4, 5, 6, 7, 8, 9, 10, 11, 12, 13, 14, 15])\n"
     ]
    }
   ],
   "source": [
    "# a)craete an array of 15 random numbers\n",
    "\n",
    "arr=array('i',[1,2,3,4,5,6,7,8,9,10,11,12,13,14,15])\n",
    "print(arr)"
   ]
  },
  {
   "cell_type": "code",
   "execution_count": 64,
   "id": "863a754b",
   "metadata": {},
   "outputs": [
    {
     "name": "stdout",
     "output_type": "stream",
     "text": [
      "enter the value present in the array or not  :16\n",
      "False\n"
     ]
    }
   ],
   "source": [
    "# b)prompt the user to enter a number to search for in the array.\n",
    "\n",
    "a = int(input(\"enter the value present in the array or not  :\"))\n",
    "print(a in arr)"
   ]
  },
  {
   "cell_type": "code",
   "execution_count": 65,
   "id": "dfe922bf",
   "metadata": {},
   "outputs": [
    {
     "name": "stdout",
     "output_type": "stream",
     "text": [
      "enter the value present in the array  or not  :56\n",
      "enter the value is not  present in array named arr \n"
     ]
    }
   ],
   "source": [
    "# c) check if the user's input exist in the array and display an appropriate message.\n",
    "\n",
    "a = int(input(\"enter the value present in the array  or not  :\"))\n",
    "\n",
    "if a in arr:\n",
    "    print(\"enter the value is present in array named arr \")\n",
    "else:\n",
    "    print(\"enter the value is not  present in array named arr \")"
   ]
  },
  {
   "cell_type": "markdown",
   "id": "4de95c1e",
   "metadata": {},
   "source": [
    "# Question 4: Array Sorting"
   ]
  },
  {
   "cell_type": "code",
   "execution_count": 9,
   "id": "c3d317a6",
   "metadata": {},
   "outputs": [
    {
     "name": "stdout",
     "output_type": "stream",
     "text": [
      "array('i', [1, 2, 3, 4, 5, 6, 7, 8, 10, 12])\n"
     ]
    }
   ],
   "source": [
    "#a) create an array of 12 integers in random order\n",
    "\n",
    "b=array('i',[1,2,3,4,5,6,7,8,10,12])\n",
    "print(b)"
   ]
  },
  {
   "cell_type": "code",
   "execution_count": 12,
   "id": "ade2dddc",
   "metadata": {},
   "outputs": [
    {
     "name": "stdout",
     "output_type": "stream",
     "text": [
      "array('i', [1, 2, 3, 4, 5, 6, 7, 8, 10, 12])\n"
     ]
    }
   ],
   "source": [
    "# b)arrange the array in reverse order.\n",
    "\n",
    "b.reverse()\n",
    "print(b)\n"
   ]
  },
  {
   "cell_type": "code",
   "execution_count": 14,
   "id": "bba00a4c",
   "metadata": {},
   "outputs": [
    {
     "name": "stdout",
     "output_type": "stream",
     "text": [
      "array('i', [1, 2, 3, 4, 5, 6])\n",
      "array('i', [7, 8, 9, 10, 11, 12])\n"
     ]
    }
   ],
   "source": [
    "def divide(array):\n",
    "    n=len(b)\n",
    "    mid = n // 2\n",
    "    part_1=b[:mid]\n",
    "    part_2=b[mid:]\n",
    "    print(part_1)\n",
    "    print(part_2)\n",
    "\n",
    "\n",
    "b=array('i',[1,2,3,4,5,6,7,8,9,10,11,12])\n",
    "divide(b)"
   ]
  },
  {
   "cell_type": "code",
   "execution_count": null,
   "id": "41905a52",
   "metadata": {},
   "outputs": [],
   "source": []
  }
 ],
 "metadata": {
  "kernelspec": {
   "display_name": "Python 3 (ipykernel)",
   "language": "python",
   "name": "python3"
  },
  "language_info": {
   "codemirror_mode": {
    "name": "ipython",
    "version": 3
   },
   "file_extension": ".py",
   "mimetype": "text/x-python",
   "name": "python",
   "nbconvert_exporter": "python",
   "pygments_lexer": "ipython3",
   "version": "3.11.5"
  }
 },
 "nbformat": 4,
 "nbformat_minor": 5
}
