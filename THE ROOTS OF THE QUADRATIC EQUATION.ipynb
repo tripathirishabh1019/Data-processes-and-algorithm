{
 "cells": [
  {
   "cell_type": "code",
   "execution_count": null,
   "id": "9d7d8c8d",
   "metadata": {},
   "outputs": [],
   "source": [
    "# BUILD AN INPUT PROMPT USER DEFINED FUNCTION WHICH GIVES THE ROOTS OF THE QUADRATIC EQUATION 'ax**+bx+c=0' WHERE THE CONSTANT a,b and c ARE OBTAINED BY USER"
   ]
  },
  {
   "cell_type": "code",
   "execution_count": null,
   "id": "92a6a124",
   "metadata": {},
   "outputs": [],
   "source": [
    "num1=float(input(\"enter the coficient a: \"))\n",
    "num2=float(input(\"enter the coficient b: \"))\n",
    "num3=float(input(\"enter the coficient c: \"))\n",
    "def quadratic_roots (a,b,c):\n",
    "    m=b**2-4*a*c\n",
    "    if m>0:\n",
    "        root1=(-b+(m**0.5)/(2*a))\n",
    "        root2=(-b-(m**0.5)/(2*a))\n",
    "        print(\"roots are real\")\n",
    "    elif m==0:\n",
    "        roots=-b/(2*a)\n",
    "        print(root)\n",
    "    else:\n",
    "        print(\"root are imaginary \")\n",
    "quadratic_roots(num1,num2,num3)"
   ]
  },
  {
   "cell_type": "code",
   "execution_count": null,
   "id": "7c61940d",
   "metadata": {},
   "outputs": [],
   "source": []
  },
  {
   "cell_type": "code",
   "execution_count": null,
   "id": "d952af7b",
   "metadata": {},
   "outputs": [],
   "source": []
  },
  {
   "cell_type": "code",
   "execution_count": null,
   "id": "9d6eb386",
   "metadata": {},
   "outputs": [],
   "source": []
  },
  {
   "cell_type": "code",
   "execution_count": null,
   "id": "0622566d",
   "metadata": {},
   "outputs": [],
   "source": []
  },
  {
   "cell_type": "code",
   "execution_count": null,
   "id": "8849b036",
   "metadata": {},
   "outputs": [],
   "source": []
  }
 ],
 "metadata": {
  "kernelspec": {
   "display_name": "Python 3 (ipykernel)",
   "language": "python",
   "name": "python3"
  },
  "language_info": {
   "codemirror_mode": {
    "name": "ipython",
    "version": 3
   },
   "file_extension": ".py",
   "mimetype": "text/x-python",
   "name": "python",
   "nbconvert_exporter": "python",
   "pygments_lexer": "ipython3",
   "version": "3.11.5"
  }
 },
 "nbformat": 4,
 "nbformat_minor": 5
}
