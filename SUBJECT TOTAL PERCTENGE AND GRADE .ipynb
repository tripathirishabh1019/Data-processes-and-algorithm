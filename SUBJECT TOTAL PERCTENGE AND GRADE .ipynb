{
 "cells": [
  {
   "cell_type": "code",
   "execution_count": null,
   "id": "29018e4b",
   "metadata": {},
   "outputs": [],
   "source": [
    "# INPUT MARKS OF FIVE SUBJECT TOTAL PERCENTAGE AND GRADE THE RESULT USING %  CONSIDERING THE FOLLOWING TABLE "
   ]
  },
  {
   "cell_type": "code",
   "execution_count": null,
   "id": "09d1648c",
   "metadata": {},
   "outputs": [],
   "source": [
    "b=int(input(\"enter the first subject marks   \"))\n",
    "c=int(input(\"enter the second subject marks  \"))\n",
    "d=int(input(\"enter the third subject marks   \"))\n",
    "e=int(input(\"enter the fourth subject marks  \"))\n",
    "f=int(input(\"enter the fivth sibject marks   \"))\n",
    "g=b+c+d+e+f\n",
    "h=g/5\n",
    "print(\" total marks obtained  \",str (g))\n",
    "print(\" total percentage obtained \",str(h),'%')\n",
    "if h>67:\n",
    "    print(\" grade is b\")\n",
    "elif h>80:\n",
    "    print(\" grade is b+ \")\n",
    "elif h>90:\n",
    "    print(\" grade is a \")\n",
    "elif h>73:\n",
    "    print(\" grade is b \")\n",
    "elif h>85:\n",
    "    print(\"grade is b+ \")\n",
    "if h>30:\n",
    "    print(\" congratulation you are eligable for admission \")\n",
    "else:\n",
    "    print(\" sorry you are not eligable for admission \")"
   ]
  },
  {
   "cell_type": "code",
   "execution_count": null,
   "id": "9d7d8c8d",
   "metadata": {},
   "outputs": [],
   "source": []
  },
  {
   "cell_type": "code",
   "execution_count": null,
   "id": "92a6a124",
   "metadata": {},
   "outputs": [],
   "source": []
  },
  {
   "cell_type": "code",
   "execution_count": null,
   "id": "7c61940d",
   "metadata": {},
   "outputs": [],
   "source": []
  },
  {
   "cell_type": "code",
   "execution_count": null,
   "id": "d952af7b",
   "metadata": {},
   "outputs": [],
   "source": []
  },
  {
   "cell_type": "code",
   "execution_count": null,
   "id": "9d6eb386",
   "metadata": {},
   "outputs": [],
   "source": []
  },
  {
   "cell_type": "code",
   "execution_count": null,
   "id": "0622566d",
   "metadata": {},
   "outputs": [],
   "source": []
  },
  {
   "cell_type": "code",
   "execution_count": null,
   "id": "8849b036",
   "metadata": {},
   "outputs": [],
   "source": []
  }
 ],
 "metadata": {
  "kernelspec": {
   "display_name": "Python 3 (ipykernel)",
   "language": "python",
   "name": "python3"
  },
  "language_info": {
   "codemirror_mode": {
    "name": "ipython",
    "version": 3
   },
   "file_extension": ".py",
   "mimetype": "text/x-python",
   "name": "python",
   "nbconvert_exporter": "python",
   "pygments_lexer": "ipython3",
   "version": "3.11.5"
  }
 },
 "nbformat": 4,
 "nbformat_minor": 5
}
