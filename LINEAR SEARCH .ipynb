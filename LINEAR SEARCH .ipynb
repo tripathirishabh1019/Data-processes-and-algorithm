{
 "cells": [
  {
   "cell_type": "markdown",
   "id": "1bd56c17",
   "metadata": {},
   "source": [
    "# linear search "
   ]
  },
  {
   "cell_type": "code",
   "execution_count": 1,
   "id": "41b7d006",
   "metadata": {},
   "outputs": [],
   "source": [
    "import array \n",
    "from array import *"
   ]
  },
  {
   "cell_type": "code",
   "execution_count": 2,
   "id": "a57a10f7",
   "metadata": {},
   "outputs": [
    {
     "name": "stdout",
     "output_type": "stream",
     "text": [
      "key has been found \n"
     ]
    }
   ],
   "source": [
    "def find(array,key):\n",
    "    for i in range(len(a)):\n",
    "        if a[i]==key:\n",
    "            return i\n",
    "    return -1\n",
    "a=array('i',[10,20,30,40])\n",
    "key=40\n",
    "result=find(a,key)\n",
    "\n",
    "if result>-1:\n",
    "    print(\"key has been found \")\n",
    "else:\n",
    "    print(\"key does not exist \")"
   ]
  },
  {
   "cell_type": "code",
   "execution_count": null,
   "id": "e680be29",
   "metadata": {},
   "outputs": [],
   "source": []
  }
 ],
 "metadata": {
  "kernelspec": {
   "display_name": "Python 3 (ipykernel)",
   "language": "python",
   "name": "python3"
  },
  "language_info": {
   "codemirror_mode": {
    "name": "ipython",
    "version": 3
   },
   "file_extension": ".py",
   "mimetype": "text/x-python",
   "name": "python",
   "nbconvert_exporter": "python",
   "pygments_lexer": "ipython3",
   "version": "3.11.5"
  }
 },
 "nbformat": 4,
 "nbformat_minor": 5
}
